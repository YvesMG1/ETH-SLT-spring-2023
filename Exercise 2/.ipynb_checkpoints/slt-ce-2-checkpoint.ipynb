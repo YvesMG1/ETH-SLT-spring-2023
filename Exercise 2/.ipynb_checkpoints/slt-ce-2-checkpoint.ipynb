{
 "cells": [
  {
   "cell_type": "markdown",
   "metadata": {},
   "source": [
    "# SLT-CE-2: Deterministic Annealing"
   ]
  },
  {
   "cell_type": "markdown",
   "metadata": {},
   "source": [
    "### References"
   ]
  },
  {
   "cell_type": "markdown",
   "metadata": {},
   "source": [
    "<ol>\n",
    "<li> Sections II.A.1 (principled derivation of deterministic annealing) and II.A.3 (Mass-constrained clustering) of 'Deterministic annealing for clustering, compression, classification, regression, and related optimization problems', Kenneth Rose, 1998, http://ieeexplore.ieee.org/document/726788/ \n",
    "</li>\n",
    "\n",
    "<li>\n",
    "The wine data set, http://www3.dsi.uminho.pt/pcortez/wine5.pdf\n",
    "</li>\n",
    "    \n",
    "</ol>"
   ]
  },
  {
   "cell_type": "markdown",
   "metadata": {},
   "source": [
    "### Setup "
   ]
  },
  {
   "cell_type": "code",
   "execution_count": 1,
   "metadata": {},
   "outputs": [],
   "source": [
    "import sklearn as skl\n",
    "from sklearn.utils.validation import check_is_fitted\n",
    "from sklearn.model_selection import train_test_split\n",
    "from sklearn.datasets import make_blobs\n",
    "import sklearn.svm as svm\n",
    "from sklearn import cluster\n",
    "\n",
    "import pandas as pd\n",
    "import numpy as np\n",
    "from treelib import Tree\n",
    "\n",
    "import matplotlib.pyplot as plt\n",
    "from matplotlib import cm"
   ]
  },
  {
   "cell_type": "markdown",
   "metadata": {},
   "source": [
    "<h2 style=\"background-color:#f0b375;\">\n",
    "Section 4.0\n",
    "<span style=font-size:50%> Complete all problems in this and previous sections to get a grade of 4.0 </span>\n",
    "</h2>\n",
    "\n",
    "<p style=\"background-color:#adebad;\">\n",
    "    For this exercise, it is of utmost importance to read reference [1] about deterministic annealing clustering (DAC). Our implementation will be based on this reference. Please shortly summarize what they refer to as the <i>preferred implementation</i> of the DAC algorithm.\n",
    "</p>"
   ]
  },
  {
   "cell_type": "markdown",
   "metadata": {},
   "source": [
    "Put your markdown text here"
   ]
  },
  {
   "cell_type": "markdown",
   "metadata": {},
   "source": [
    "<p style=\"background-color:#adebad;\">\n",
    "    In order to avoid headaches with numerical instabilities, we first try our algorithm on a simple artificially generated data as below. Run the bloc below to have a look at the data. Later when we have everything implemented, we will examine some real world data. \n",
    "</p>"
   ]
  },
  {
   "cell_type": "code",
   "execution_count": 2,
   "metadata": {},
   "outputs": [
    {
     "data": {
      "text/plain": [
       "Text(0.5, 1.0, 'Test data')"
      ]
     },
     "execution_count": 2,
     "metadata": {},
     "output_type": "execute_result"
    },
    {
     "data": {
      "image/png": "[encoded data removed]",
      "text/plain": [
       "<Figure size 432x288 with 1 Axes>"
      ]
     },
     "metadata": {
      "needs_background": "light"
     },
     "output_type": "display_data"
    },
    {
     "data": {
      "image/png": "[encoded data removed]",
      "text/plain": [
       "<Figure size 432x288 with 1 Axes>"
      ]
     },
     "metadata": {
      "needs_background": "light"
     },
     "output_type": "display_data"
    }
   ],
   "source": [
    "n_clusters = 4\n",
    "ran_s = 42\n",
    "\n",
    "# Generate artificial dataset\n",
    "X, y_true = make_blobs(n_samples=7000, centers=4,\n",
    "                       cluster_std=0.3, random_state=ran_s,\n",
    "                       center_box=(-8.0, 8.0),\n",
    "                       shuffle=False)\n",
    "X_train, X_test, y_train, y_test = train_test_split(\n",
    "    X, y_true, train_size=6000, random_state=42)\n",
    "\n",
    "plt.figure()\n",
    "plt.scatter(X_train[:, 0], X_train[:, 1], c=y_train, s=40, cmap='viridis')\n",
    "plt.title(\"Training data\")\n",
    "\n",
    "plt.figure()\n",
    "plt.scatter(X_test[:, 0], X_test[:, 1], c=y_test, s=40, cmap='viridis')\n",
    "plt.title(\"Test data\")"
   ]
  },
  {
   "cell_type": "markdown",
   "metadata": {},
   "source": [
    "<p style=\"background-color:#adebad;\">\n",
    "    Implement the <b>fit method</b> for the template class DeterministicAnnealing, according to the contract outlined in its docstring. (The template class DeterministicAnnealing is in file <b>DA.py</b> which you can open in your favourite IDE) For the implementation, it may help to take a look at both <b>get_distance method</b> and <b>fit _calculate_cluster_probs method</b> and implement them as well. Of course you are free to change all these methods or/and write additional methods for your purpose.\n",
    "    You can add more class methods as necessary.\n",
    "    See http://scikit-learn.org/stable/modules/generated/sklearn.cluster.KMeans.html for complementary information.\n",
    "</p>\n",
    "<p style=\"background-color:#adebad;\">\n",
    "    While implementing, you can run the bloc below to test your implementation.\n",
    "</p>"
   ]
  },
  {
   "cell_type": "code",
   "execution_count": 3,
   "metadata": {},
   "outputs": [
    {
     "name": "stdout",
     "output_type": "stream",
     "text": [
      "4\n",
      "crit T:  49.975169813718466\n",
      "Distortion: 41.98513949320273\n",
      "self.T: 180.0\n",
      "self.K 1\n",
      "crit T:  49.975169813718466\n",
      "Distortion: 41.98513949320273\n",
      "self.T: 162.0\n",
      "self.K 1\n",
      "crit T:  49.975169813718466\n",
      "Distortion: 41.98513949320273\n",
      "self.T: 145.8\n",
      "self.K 1\n",
      "crit T:  49.975169813718466\n",
      "Distortion: 41.98513949320273\n",
      "self.T: 131.22000000000003\n",
      "self.K 1\n",
      "crit T:  49.975169813718466\n",
      "Distortion: 41.98513949320273\n",
      "self.T: 118.09800000000003\n",
      "self.K 1\n",
      "crit T:  49.975169813718466\n",
      "Distortion: 41.98513949320273\n",
      "self.T: 106.28820000000003\n",
      "self.K 1\n",
      "crit T:  49.975169813718466\n",
      "Distortion: 41.98513949320273\n",
      "self.T: 95.65938000000003\n",
      "self.K 1\n",
      "crit T:  49.975169813718466\n",
      "Distortion: 41.98513949320273\n",
      "self.T: 86.09344200000002\n",
      "self.K 1\n",
      "crit T:  49.975169813718466\n",
      "Distortion: 41.98513949320273\n",
      "self.T: 77.48409780000003\n",
      "self.K 1\n",
      "crit T:  49.975169813718466\n",
      "Distortion: 41.98513949320273\n",
      "self.T: 69.73568802000003\n",
      "self.K 1\n",
      "crit T:  49.975169813718466\n",
      "Distortion: 41.98513949320273\n",
      "self.T: 62.762119218000024\n",
      "self.K 1\n",
      "crit T:  49.975169813718466\n",
      "Distortion: 41.98513949320273\n",
      "self.T: 56.485907296200025\n",
      "self.K 1\n",
      "crit T:  49.975169813718466\n",
      "Distortion: 41.98513949320273\n",
      "self.T: 50.83731656658002\n",
      "self.K 1\n",
      "crit T:  49.975169813718466\n",
      "Distortion: 41.98513949320273\n",
      "self.T: 45.75358490992202\n",
      "self.K 1\n",
      "crit T:  49.975169813718466\n",
      "Distortion: 41.98513949320273\n",
      "self.T: 41.17822641892982\n",
      "self.K 2\n",
      "crit T:  49.91008543700138\n",
      "Distortion: 41.9843181070934\n",
      "self.T: 37.06040377703684\n",
      "self.K 3\n",
      "crit T:  28.099825358960736\n",
      "crit T:  28.228001907256463\n",
      "crit T:  12.600923864764184\n",
      "Distortion: 17.412908320746816\n",
      "self.T: 33.35436339933316\n",
      "self.K 3\n",
      "crit T:  23.140974031188012\n",
      "crit T:  20.717895950008405\n",
      "crit T:  8.11261346389124\n",
      "Distortion: 12.942992359399643\n",
      "self.T: 30.018927059399843\n",
      "self.K 3\n",
      "crit T:  19.603315866658825\n",
      "crit T:  15.651277786980263\n",
      "crit T:  5.057758933822451\n",
      "Distortion: 9.840154587500018\n",
      "self.T: 27.01703435345986\n",
      "self.K 3\n",
      "crit T:  17.399338625631724\n",
      "crit T:  11.737462039262027\n",
      "crit T:  3.0618889817295742\n",
      "Distortion: 7.720202891695477\n",
      "self.T: 24.315330918113872\n",
      "self.K 3\n",
      "crit T:  16.0454207513949\n",
      "crit T:  8.667680527550601\n",
      "crit T:  1.8077044768174102\n",
      "Distortion: 6.284025847160364\n",
      "self.T: 21.883797826302487\n",
      "self.K 3\n",
      "crit T:  15.200518676847523\n",
      "crit T:  6.301609817165676\n",
      "crit T:  1.0513209913196746\n",
      "Distortion: 5.319193668068665\n",
      "self.T: 19.695418043672237\n",
      "self.K 3\n",
      "crit T:  14.664972004625573\n",
      "crit T:  4.525329790757363\n",
      "crit T:  0.616831480309614\n",
      "Distortion: 4.677894490908471\n",
      "self.T: 17.725876239305013\n",
      "self.K 3\n",
      "crit T:  14.339078312805755\n",
      "crit T:  3.1918393527927043\n",
      "crit T:  0.3816977019972815\n",
      "Distortion: 4.262099115810555\n",
      "self.T: 15.953288615374511\n",
      "self.K 3\n",
      "crit T:  14.144848102142955\n",
      "crit T:  2.2088363940318447\n",
      "crit T:  0.2626328082287043\n",
      "Distortion: 3.997210779398872\n",
      "self.T: 14.35795975383706\n",
      "self.K 3\n",
      "crit T:  14.031112592970475\n",
      "crit T:  1.5139294132248828\n",
      "crit T:  0.20658759870936988\n",
      "Distortion: 3.8321329642187885\n",
      "self.T: 12.922163778453355\n",
      "self.K 3\n",
      "crit T:  13.969067140705327\n",
      "Distortion: 3.7322842731169175\n",
      "self.T: 11.62994740060802\n",
      "self.K 4\n",
      "Distortion: 2.267942810652125\n",
      "self.T: 10.466952660547218\n",
      "self.K 4\n",
      "Distortion: 1.6652281385347796\n",
      "self.T: 9.420257394492497\n",
      "self.K 4\n",
      "Distortion: 1.2132137702307704\n",
      "self.T: 8.478231655043247\n",
      "self.K 4\n",
      "Distortion: 0.8819062401019173\n",
      "self.T: 7.630408489538922\n",
      "self.K 4\n",
      "Distortion: 0.6476800213177932\n",
      "self.T: 6.86736764058503\n",
      "self.K 4\n",
      "Distortion: 0.4816806942461178\n",
      "self.T: 6.180630876526528\n",
      "self.K 4\n",
      "Distortion: 0.371082753134259\n",
      "self.T: 5.562567788873875\n",
      "self.K 4\n",
      "Distortion: 0.2951102151144439\n",
      "self.T: 5.006311009986487\n",
      "self.K 4\n",
      "Distortion: 0.2468695302384154\n",
      "self.T: 4.5056799089878385\n",
      "self.K 4\n",
      "Distortion: 0.2169817856160336\n",
      "self.T: 4.055111918089055\n",
      "self.K 4\n",
      "Distortion: 0.19949131710949897\n",
      "self.T: 3.6496007262801493\n",
      "self.K 4\n",
      "Distortion: 0.18961285005749226\n",
      "self.T: 3.2846406536521346\n",
      "self.K 4\n",
      "Distortion: 0.18439782224790785\n",
      "self.T: 2.956176588286921\n",
      "self.K 4\n",
      "Distortion: 0.18182001295888384\n",
      "self.T: 2.660558929458229\n",
      "self.K 4\n",
      "Distortion: 0.18063804344981235\n",
      "self.T: 2.3945030365124063\n",
      "self.K 4\n",
      "Distortion: 0.18013797981975466\n",
      "self.T: 2.1550527328611655\n",
      "self.K 4\n",
      "Distortion: 0.17994404736770886\n",
      "self.T: 1.939547459575049\n",
      "self.K 4\n",
      "Distortion: 0.17987550211143313\n",
      "self.T: 1.7455927136175442\n",
      "self.K 4\n",
      "Distortion: 0.17985354187840732\n",
      "self.T: 1.57103344225579\n",
      "self.K 4\n",
      "Distortion: 0.17984719373049018\n",
      "self.T: 1.413930098030211\n",
      "self.K 4\n",
      "Distortion: 0.17984554507922257\n",
      "self.T: 1.2725370882271898\n",
      "self.K 4\n",
      "Distortion: 0.1798451620402246\n",
      "self.T: 1.1452833794044708\n",
      "self.K 4\n",
      "Distortion: 0.179845082828875\n",
      "self.T: 1.0307550414640236\n",
      "self.K 4\n",
      "Distortion: 0.17984506835168326\n",
      "self.T: 0.9276795373176213\n",
      "self.K 4\n",
      "0\n",
      "├── 0\n",
      "│   ├── 0\n",
      "│   │   ├── 0\n",
      "│   │   └── 3\n",
      "│   └── 2\n",
      "└── 1\n",
      "\n"
     ]
    },
    {
     "data": {
      "image/png": "[encoded data removed]",
      "text/plain": [
       "<Figure size 432x288 with 1 Axes>"
      ]
     },
     "metadata": {
      "needs_background": "light"
     },
     "output_type": "display_data"
    }
   ],
   "source": [
    "from DA import DeterministicAnnealingClustering\n",
    "\n",
    "DAC = DeterministicAnnealingClustering(\n",
    "    n_clusters=n_clusters, random_state=ran_s, T = 200, T_min = 1, alpha = 0.9)\n",
    "DAC.fit(X_train)\n",
    "y_DAC = DAC.predict(X_test)\n",
    "y_DAC_hard = np.argmax(y_DAC, axis=1)\n",
    "plt.figure()\n",
    "plt.scatter(X_test[:, 0], X_test[:, 1], c=y_DAC_hard, s=40, cmap='viridis')\n",
    "plt.title(\"DA clustering\")\n",
    "plt.show()"
   ]
  },
  {
   "cell_type": "markdown",
   "metadata": {},
   "source": [
    "<h2 style=\"background-color:#f0b375;\">\n",
    "Section 4.5\n",
    "<span style=font-size:50%> Complete all problems in this section to get an additional (+0.5) point to the previous points. Note that you can have a maximum of 6 points at the end.</span>\n",
    "</h2>\n",
    "\n",
    "<p style=\"background-color:#adebad;\">\n",
    "    In this section we implement a plot which will help us better understand the DA method, and could also be a help for better debugging of your implementation.\n",
    "    \n",
    " <ul style=\"background-color:#adebad;\">\n",
    "        <li> \n",
    "            Modify your implementation of <b>fit</b> function such that <b>plot_phase_diagram</b> method will produce a plot similar to the phase diagram plot shown in Figure 2 of the reference paper.\n",
    "        </li>\n",
    "</ul>  \n",
    "</p>"
   ]
  },
  {
   "cell_type": "markdown",
   "metadata": {},
   "source": [
    "<ul style=\"background-color:#adebad;\">\n",
    "            For this, extend DAC.fit to save the expected distortion during annealing as an additional attribute self.distortion.\n",
    "            You might also want to save the number of effective clusters and the temperature along the way.\n",
    "    </ul>\n",
    "</p>\n",
    "\n",
    "#### extend DAC.fit(self, X):\n",
    "    # ...\n",
    "    # Save information for each (n-th) annealing step:\n",
    "    # self.distortion = [d0, d1, d2, ...]\n",
    "    # self.n_eff_clusters = [e0, e1, e2, ...]\n",
    "    # self.temp = [t0, t1, t2, ...]\n",
    "    # ..."
   ]
  },
  {
   "cell_type": "code",
   "execution_count": null,
   "metadata": {},
   "outputs": [],
   "source": [
    "DAC.plot_phase_diagram()"
   ]
  },
  {
   "cell_type": "markdown",
   "metadata": {},
   "source": [
    "<h2 style=\"background-color:#f0b375;\">\n",
    "Section 5.0\n",
    "<span style=font-size:50%> Complete all problems in this section to get an additional (+0.5) point to the previous points.</span>\n",
    "</h2>\n",
    "<ul style=\"background-color:#adebad;\">\n",
    "Here we implement another plot which helps better undetrstad the dynamics of the algorithm.\n",
    "        <li>\n",
    "        Implement DAC.plot_bifurcation, which should create a bifurcation plot.<br>\n",
    "        Modify DAC.fit to keep track of the distances, using the tree object DAC.bifurcation_tree. When a cluster splits, it creates two child nodes. Each node should store its centroid vector, and the distance to the parent centroid vector. After splitting, the parent node is not updated anymore.<br>\n",
    "        In the bifurcation plot, the horizontal distance of a child node to its parent node should be exactly the distance to the parent centroid vector. The two child nodes should move in opposite directions, i.e. one to the left of the parent and one to the right.\n",
    "        </li>\n",
    "</ul>\n",
    "\n",
    "This section could bit a bit annoying, you can also jump to the next sections and come back here later. "
   ]
  },
  {
   "cell_type": "code",
   "execution_count": null,
   "metadata": {},
   "outputs": [],
   "source": [
    "DAC.plot_bifurcation()"
   ]
  },
  {
   "cell_type": "markdown",
   "metadata": {},
   "source": [
    "<h2 style=\"background-color:#f0b375;\">\n",
    "Section 5.5\n",
    "<span style=font-size:50%> Complete all problems in this section to get an additional (+0.5) point to the previous points.</span>\n",
    "</h2>\n",
    "\n",
    "<p style=\"background-color:#adebad;\">\n",
    "Now we are ready to use some real world data. This might need some tweaking and handling of numberical instabilities. Please make sure your understand the data.\n",
    "</p>"
   ]
  },
  {
   "cell_type": "markdown",
   "metadata": {},
   "source": [
    "<p style=\"background-color:#adebad;\">\n",
    "Read the wine data [3], which contains 11 physiochemical attributes, and two labels (quality and color).\n",
    "</p>"
   ]
  },
  {
   "cell_type": "markdown",
   "metadata": {},
   "source": [
    "<p style=\"background-color:#adebad;\">\n",
    "    Create an instance of your DAC class with n_clusters = 2 and <b>fit the first 6000 samples</b> of the wine data set. Record the execution time. Furthermore, create an instance of the sklearn k-means class, and fit it with the same parameters. Again record the execution time. Make sure that the hyper parameters (initial temperature, min temperature, convergence criteria, noise, etc.) make sense and lead to a reasonable clustering\n",
    "</p>"
   ]
  },
  {
   "cell_type": "code",
   "execution_count": null,
   "metadata": {},
   "outputs": [],
   "source": [
    "from DA import read_data_csv\n",
    "X, y = read_data_csv(\"wine-data.csv\", y_names=[\"quality\", \"color\"])\n",
    "\n",
    "X_train, X_test, y_train, y_test = train_test_split(\n",
    "    X, y[\"color\"], train_size=6000, random_state=42)"
   ]
  },
  {
   "cell_type": "code",
   "execution_count": null,
   "metadata": {},
   "outputs": [],
   "source": [
    "%%time\n",
    "DAC = DeterministicAnnealingClustering(n_clusters=2, random_state=42)\n",
    "DAC.fit(X_train)"
   ]
  },
  {
   "cell_type": "code",
   "execution_count": null,
   "metadata": {},
   "outputs": [],
   "source": [
    "%%time\n",
    "kmeans = cluster.KMeans(n_clusters=2,random_state=42)\n",
    "kmeans.fit(X_train)"
   ]
  },
  {
   "cell_type": "code",
   "execution_count": null,
   "metadata": {},
   "outputs": [],
   "source": [
    "%%time\n",
    "y_kmeans = kmeans.predict(X_test)"
   ]
  },
  {
   "cell_type": "code",
   "execution_count": null,
   "metadata": {
    "collapsed": true,
    "jupyter": {
     "outputs_hidden": true
    }
   },
   "outputs": [],
   "source": [
    "%%time\n",
    "y_DAC = DAC.predict(X_test)"
   ]
  },
  {
   "cell_type": "markdown",
   "metadata": {},
   "source": [
    "<h2 style=\"background-color:#f0b375;\">\n",
    "Section 6.0\n",
    "<span style=font-size:50%> Complete all problems in this section to get an additional (+0.5) point to the previous points.</span>\n",
    "</h2>\n",
    "<ul style=\"background-color:#adebad;\">\n",
    "<li> Before we can compute the confusion matrix, we need to perform some post-processing on the DAC cluster assignments.\n",
    "    Explain what the function postprocess (defined below) does, and why we need it. To do so, complete the docstring of the function postprocess.\n",
    "        </li>\n",
    "</ul>"
   ]
  },
  {
   "cell_type": "code",
   "execution_count": null,
   "metadata": {},
   "outputs": [],
   "source": [
    "def postprocess(y_DAC, y_kmeans):\n",
    "    \"\"\"TODO: Add explanation\"\"\"\n",
    "    \n",
    "    y_DAC_hard = np.argmax(y_DAC, axis=1)\n",
    "    \n",
    "    n_clusters = len(np.unique(y_DAC_hard))\n",
    "    dac2kmeans = []\n",
    "    for cluster in range(n_clusters):\n",
    "        argmax = np.argmax(y_DAC[:, cluster])\n",
    "        dac2kmeans.append(y_kmeans[argmax])\n",
    "        \n",
    "    y_DAC_new = []\n",
    "    for dac_label in y_DAC_hard:\n",
    "        y_DAC_new.append(dac2kmeans[dac_label])\n",
    "        \n",
    "    return np.array(y_DAC_new)"
   ]
  },
  {
   "cell_type": "code",
   "execution_count": null,
   "metadata": {},
   "outputs": [],
   "source": [
    "skl.metrics.confusion_matrix(y_kmeans, postprocess(y_DAC, y_kmeans))"
   ]
  },
  {
   "cell_type": "markdown",
   "metadata": {},
   "source": [
    "</h2>\n",
    "\n",
    "<ul style=\"background-color:#adebad;\">\n",
    "        <li> Read the docstring of <b>transform method</b> and understand what it does.\n",
    "        </li>\n",
    "        <li>\n",
    "        Use DAC.transform and kmeans.transform to transform both, X_train and X_test. \n",
    "        </li>\n",
    "       \n",
    "</ul>"
   ]
  },
  {
   "cell_type": "code",
   "execution_count": null,
   "metadata": {
    "collapsed": true,
    "jupyter": {
     "outputs_hidden": true
    }
   },
   "outputs": [],
   "source": [
    "X_train_DAC = DAC.transform(X_train)\n",
    "X_test_DAC = DAC.transform(X_test)\n",
    "\n",
    "X_train_kmeans = kmeans.transform(X_train)\n",
    "X_test_kmeans = kmeans.transform(X_test)"
   ]
  },
  {
   "cell_type": "markdown",
   "metadata": {},
   "source": [
    "<ul style=\"background-color:#adebad;\">\n",
    "        <li>\n",
    "        Fit an SVM classifier with default parameters to the untransformed data, and to the transformed data.\n",
    "        Compare the performance of predicting whether the color of a wine is red or white.\n",
    "        </li>\n",
    "    </ul>"
   ]
  },
  {
   "cell_type": "code",
   "execution_count": null,
   "metadata": {},
   "outputs": [],
   "source": [
    "svm = svm.SVC(random_state=42)\n",
    "svm.fit(X_train, y_train)\n",
    "svm.score(X_test, y_test)"
   ]
  },
  {
   "cell_type": "code",
   "execution_count": null,
   "metadata": {},
   "outputs": [],
   "source": [
    "svm_DAC = svm.SVC(random_state=42)\n",
    "svm_DAC.fit(X_train_DAC, y_train)\n",
    "svm_DAC.score(X_test_DAC, y_test)"
   ]
  },
  {
   "cell_type": "code",
   "execution_count": null,
   "metadata": {},
   "outputs": [],
   "source": [
    "svm = svm.SVC(random_state=42)\n",
    "svm.fit(X_train_kmeans, y_train)\n",
    "svm.score(X_test_kmeans, y_test)"
   ]
  },
  {
   "cell_type": "markdown",
   "metadata": {},
   "source": [
    "<ul style=\"background-color:#adebad;\">\n",
    "        <li>\n",
    "        Produce two scatter plots, one for X_train_DAC and one for X_train_kmeans.<br>\n",
    "        Make the marker color indicate the wine color.\n",
    "        </li>\n",
    "    </ul>"
   ]
  },
  {
   "cell_type": "code",
   "execution_count": null,
   "metadata": {},
   "outputs": [],
   "source": []
  },
  {
   "cell_type": "markdown",
   "metadata": {},
   "source": [
    "<ul style=\"background-color:#adebad;\">\n",
    "    <li>\n",
    "        Create a fixed 2D embedding (e.g. with LLE, t-SNE, MDS) of the wine data and color the markers according to quality and color. Fit and transform X_train with DAC(n_clusters=2,3,4,5,6,7,8,...). Produce a plot of the SVM score svm_DAC.score(X_test_DAC, y_test) as a function of n_clusters.. Each time use marker shapes to display the cluster memberships, and compare to the labels color and quality.\n",
    "    </li>\n",
    "</ul>"
   ]
  },
  {
   "cell_type": "code",
   "execution_count": null,
   "metadata": {},
   "outputs": [],
   "source": [
    "\"\"\"\n",
    "    %%time\n",
    "    lle = skl.manifold.LocallyLinearEmbedding(random_state=...)\n",
    "    lle.fit(...)\n",
    "\"\"\""
   ]
  },
  {
   "cell_type": "code",
   "execution_count": null,
   "metadata": {},
   "outputs": [],
   "source": []
  },
  {
   "cell_type": "markdown",
   "metadata": {},
   "source": [
    "<ul style=\"background-color:#adebad;\">\n",
    "        <li>\n",
    "            So far, our implementation of DAC assumed that our data is compatible with the euclidian metric. Argue why this assumption is not justified for the wine-data. Suggest a better alternative (no implementation required!).\n",
    "        </li>\n",
    "    </ul>\n",
    "</p>\n",
    "\n"
   ]
  },
  {
   "cell_type": "code",
   "execution_count": null,
   "metadata": {},
   "outputs": [],
   "source": []
  }
 ],
 "metadata": {
  "kernelspec": {
   "display_name": "Python 3 (ipykernel)",
   "language": "python",
   "name": "python3"
  },
  "language_info": {
   "codemirror_mode": {
    "name": "ipython",
    "version": 3
   },
   "file_extension": ".py",
   "mimetype": "text/x-python",
   "name": "python",
   "nbconvert_exporter": "python",
   "pygments_lexer": "ipython3",
   "version": "3.9.7"
  }
 },
 "nbformat": 4,
 "nbformat_minor": 4
}
